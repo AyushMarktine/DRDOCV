{
 "cells": [
  {
   "cell_type": "code",
   "execution_count": null,
   "metadata": {
    "id": "z8tz8-pp-eLg"
   },
   "outputs": [],
   "source": []
  },
  {
   "cell_type": "code",
   "execution_count": null,
   "metadata": {
    "id": "wz8RZfdyzfOG"
   },
   "outputs": [],
   "source": [
    "\n",
    "import os \n",
    "import cv2  \n",
    "import sys\n",
    "import json\n",
    "from PIL import Image, ImageDraw\n",
    "import numpy as np\n"
   ]
  },
  {
   "cell_type": "code",
   "execution_count": null,
   "metadata": {
    "id": "HNqJRkMEzuA4"
   },
   "outputs": [],
   "source": [
    "x_train = []\n",
    "rootdir = '/root/Downloads/idd-20k-II/idd20kII/leftImg8bit/train'\n",
    "for root, dirs, files in os.walk(rootdir):\n",
    "    for name in files:\n",
    "        if name.endswith((\".jpg\")):\n",
    "            x_train.append(os.path.join(root, name).replace('\\\\','/'))\n",
    "\n",
    "x_val = []\n",
    "rootdir = \"/root/Downloads/idd-20k-II/idd20kII/idd20kII/leftImg8bit/val\"\n",
    "for root, dirs, files in os.walk(rootdir):\n",
    "    for name in files:\n",
    "        if name.endswith((\".jpg\")):\n",
    "            x_val.append(os.path.join(root, name).replace('\\\\','/'))\n",
    "\n",
    "train_json = []\n",
    "rootdir = '/root/Downloads/idd-20k-II/idd20kII/gtFine/train'\n",
    "for root, dirs, files in os.walk(rootdir):\n",
    "    for name in files:\n",
    "        if name.endswith((\".json\")):\n",
    "            train_json.append(os.path.join(root, name).replace('\\\\','/'))\n",
    "\n",
    "val_json = []\n",
    "rootdir = '/root/Downloads/idd-20k-II/idd20kII/gtFine/val'\n",
    "for root, dirs, files in os.walk(rootdir):\n",
    "    for name in files:\n",
    "        if name.endswith((\".json\")):\n",
    "            val_json.append(os.path.join(root, name).replace('\\\\','/'))\n",
    "            "
   ]
  },
  {
   "cell_type": "code",
   "execution_count": null,
   "metadata": {
    "id": "JrNBRXZnGyj0"
   },
   "outputs": [],
   "source": [
    "x_train"
   ]
  },
  {
   "cell_type": "code",
   "execution_count": null,
   "metadata": {
    "id": "oW76702_0Koi"
   },
   "outputs": [],
   "source": [
    "import json\n",
    "def get_poly_mask_fun(file):\n",
    "    import json\n",
    "    f = open(file, 'r')\n",
    "    data = json.loads(f.read())\n",
    "    global h,w\n",
    "    h = data['imgHeight']\n",
    "    w = data['imgWidth']\n",
    "    for obj in data['objects']:\n",
    "        label.append(obj['label'])\n",
    "        poly.append(obj['polygon'])\n",
    "        \n",
    "def get_poly(index,mask):\n",
    "    if mask == \"Train\":\n",
    "        print(\"Processing:\"+train_json[index])\n",
    "        get_poly_mask_fun(train_json[index])\n",
    "    elif mask == \"Val\":\n",
    "        print(\"Processing:\"+val_json[index])\n",
    "        get_poly_mask_fun(val_json[index])            \n",
    "    for k in range(len(poly)):\n",
    "        vertex = []\n",
    "        for i in range(len(poly[k])):\n",
    "            vertex.append(tuple(poly[k][i]))\n",
    "        vertexlist.append(vertex)"
   ]
  },
  {
   "cell_type": "code",
   "execution_count": null,
   "metadata": {
    "id": "bbQNhzKBQ7jv"
   },
   "outputs": [],
   "source": [
    "val_name = []\n",
    "for path in val_json:\n",
    "    val_name.append(path.split('/')[-2]+ '_' + path.split('/')[-1] )\n"
   ]
  },
  {
   "cell_type": "code",
   "execution_count": null,
   "metadata": {
    "id": "QlgpDuk_0TTR"
   },
   "outputs": [],
   "source": [
    "train_name = []\n",
    "for path in train_json:\n",
    "    train_name.append(path.split('/')[-2]+ '_' + path.split('/')[-1] )"
   ]
  },
  {
   "cell_type": "code",
   "execution_count": null,
   "metadata": {
    "id": "xMrLBQ2V0VpH"
   },
   "outputs": [],
   "source": [
    "from tqdm import tqdm\n",
    "unique_label = []\n",
    "for train in tqdm(train_json):\n",
    "    import json\n",
    "    f = open(train, 'r')\n",
    "    data = json.loads(f.read())\n",
    "    \n",
    "    for obj in data['objects']:\n",
    "        if obj['label'] not in unique_label:\n",
    "            unique_label.append(obj['label'])  "
   ]
  },
  {
   "cell_type": "code",
   "execution_count": null,
   "metadata": {
    "id": "8TIYlZhZ0Y3g"
   },
   "outputs": [],
   "source": [
    "colour = {'road':6,\n",
    "'drivable fallback':6,\n",
    "'motorcycle':1,\n",
    "'sky':2,\n",
    "'curb':3,\n",
    "'building':0,\n",
    "'vegetation':0,\n",
    "'obs-str-bar-fallback':3,\n",
    "'billboard':3,\n",
    "'autorickshaw':1,\n",
    "'pole':3,\n",
    "'car':1,\n",
    "'truck':1,\n",
    "'person':4,'animal':4,\n",
    "'rider':4,\n",
    "'vehicle fallback':1,\n",
    "'non-drivable fallback':5,\n",
    "'wall':3,\n",
    "'fallback background':2,\n",
    "'fence':3,\n",
    "'traffic sign':3,\n",
    "'bus':1,\n",
    "'bicycle':1,\n",
    "'parking':6,\n",
    "'bridge':0,\n",
    "'tunnel':0,\n",
    "'out of roi':7,\n",
    "'ground':5,\n",
    "'polegroup':3,\n",
    "'sidewalk':5,\n",
    "'guard rail':3,\n",
    "'caravan':1,\n",
    "'traffic light':3,\n",
    "'trailer':1,\n",
    "'rail track':5,\n",
    "'ego vehicle':1,\n",
    "'rectification border':5,\n",
    "'unlabeled':7,\n",
    "'train':1,\n",
    "'license plate':1}"
   ]
  },
  {
   "cell_type": "code",
   "execution_count": null,
   "metadata": {
    "id": "lmdHcwBA0bdb"
   },
   "outputs": [],
   "source": [
    "import math \n",
    "from PIL import Image, ImageDraw \n",
    "from PIL import ImagePath  \n",
    "outlayer_train = []\n",
    "count_train = 1\n",
    "from tqdm import tqdm \n",
    "for json in range(len(train_name)):\n",
    "    label = []\n",
    "    poly = []\n",
    "    vertexlist = []\n",
    "    get_poly(json,\"Val\")\n",
    "    img = Image.new(\"L\", (w, h))  \n",
    "    img1 = ImageDraw.Draw(img)\n",
    "    print(count_train)\n",
    "    count_train = count_train + 1\n",
    "    for j in range(len(vertexlist)):\n",
    "        if len(vertexlist[j]) > 1:\n",
    "            img1.polygon(vertexlist[j], fill = colour[label[j]])\n",
    "    img.save(\"/root/Downloads/idd-20k-II/idd20kII/vallabel/\"+train_name[json].split('.')[0]+'.png', 'PNG')"
   ]
  },
  {
   "cell_type": "code",
   "execution_count": null,
   "metadata": {
    "id": "wZqWepdLtmMN"
   },
   "outputs": [],
   "source": [
    "train_name"
   ]
  }
 ],
 "metadata": {
  "accelerator": "GPU",
  "colab": {
   "authorship_tag": "ABX9TyP4AQMzrqvjTQU0N2xv6aSM",
   "collapsed_sections": [],
   "mount_file_id": "1e1UshSERk4q-pbob1OVEh_4wFOsOz5t7",
   "name": "Untitled4.ipynb",
   "private_outputs": true,
   "provenance": []
  },
  "gpuClass": "standard",
  "kernelspec": {
   "display_name": "Python 3 (ipykernel)",
   "language": "python",
   "name": "python3"
  },
  "language_info": {
   "codemirror_mode": {
    "name": "ipython",
    "version": 3
   },
   "file_extension": ".py",
   "mimetype": "text/x-python",
   "name": "python",
   "nbconvert_exporter": "python",
   "pygments_lexer": "ipython3",
   "version": "3.8.10"
  }
 },
 "nbformat": 4,
 "nbformat_minor": 1
}
