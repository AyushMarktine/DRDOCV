{
 "cells": [
  {
   "cell_type": "code",
   "execution_count": 10,
   "id": "3deea0df",
   "metadata": {},
   "outputs": [],
   "source": [
    "#Get the annotations\n",
    "import os\n",
    "annotations = [os.path.join(r'/root/Downloads/Dataset/Labels', x) for x in os.listdir(r'/root/Downloads/Dataset/Labels') if x[-3:] == \"xml\"]# annotations.sort()\n",
    "# print(annotations)"
   ]
  },
  {
   "cell_type": "code",
   "execution_count": 4,
   "id": "458fc805",
   "metadata": {},
   "outputs": [],
   "source": [
    "path =\"/root/Downloads/IDD_Detection/JPEGImages\"\n",
    "i=0\n",
    "for j in os.listdir(path):\n",
    "    path1= path+'/'+j\n",
    "    for k in os.listdir(path1):\n",
    "        path2=path1+'/'+k\n",
    "        for l in os.listdir(path2):\n",
    "            os.rename(path2+'/'+l, \"/root/Downloads/Dataset/Images\"+'/'+j+k+l.split('.')[0]+'.jpg')"
   ]
  },
  {
   "cell_type": "code",
   "execution_count": 6,
   "id": "8f933c6c",
   "metadata": {},
   "outputs": [],
   "source": [
    "path =\"/root/Downloads/IDD_Detection/Annotations\"\n",
    "i=0\n",
    "for j in os.listdir(path):\n",
    "    path1= path+'/'+j\n",
    "    for k in os.listdir(path1):\n",
    "        path2=path1+'/'+k\n",
    "        for l in os.listdir(path2):\n",
    "            if \".swp\" in l:\n",
    "                pass\n",
    "            else:\n",
    "                os.rename(path2+'/'+l, \"/root/Downloads/Dataset/Labels\"+'/'+j+k+l.split('.')[0]+'.xml')\n"
   ]
  },
  {
   "cell_type": "code",
   "execution_count": 12,
   "id": "9a56eb0d",
   "metadata": {},
   "outputs": [],
   "source": [
    "# %pip install scikit-learn\n",
    "# %pip install tqdm\n",
    "# %pip install matplotlib"
   ]
  },
  {
   "cell_type": "code",
   "execution_count": 11,
   "id": "2a6b1560",
   "metadata": {},
   "outputs": [],
   "source": [
    "import torch\n",
    "from IPython.display import Image  # for displaying images\n",
    "import os \n",
    "import random\n",
    "import shutil\n",
    "from sklearn.model_selection import train_test_split\n",
    "import xml.etree.ElementTree as ET\n",
    "from xml.dom import minidom\n",
    "from tqdm import tqdm\n",
    "from PIL import Image, ImageDraw\n",
    "import numpy as np\n",
    "# import matplotlib.pyplot as plt\n",
    "\n",
    "random.seed(108)\n",
    "# Function to get the data from XML Annotation\n",
    "\n",
    "def extract_info_from_xml(xml_file):\n",
    "    f_name = xml_file.split(\"/\")[-1]\n",
    "    root = ET.parse(xml_file).getroot()\n",
    "    \n",
    "    # Initialise the info dict \n",
    "    info_dict = {}\n",
    "    info_dict['bboxes'] = []\n",
    "\n",
    "    # Parse the XML Tree\n",
    "    for elem in root:\n",
    "        # Get the file name \n",
    "        if elem.tag == \"filename\":\n",
    "            info_dict['filename'] = f_name#elem.text\n",
    "            \n",
    "        # Get the image size\n",
    "        elif elem.tag == \"size\":\n",
    "            image_size = []\n",
    "            for subelem in elem:\n",
    "                image_size.append(int(subelem.text))\n",
    "            \n",
    "            info_dict['image_size'] = tuple(image_size)\n",
    "        \n",
    "        # Get details of the bounding box \n",
    "        elif elem.tag == \"object\":\n",
    "            bbox = {}\n",
    "            for subelem in elem:\n",
    "                if subelem.tag == \"name\":\n",
    "                    bbox[\"class\"] = subelem.text\n",
    "                    \n",
    "                elif subelem.tag == \"bndbox\":\n",
    "                    for subsubelem in subelem:\n",
    "                        bbox[subsubelem.tag] = int(subsubelem.text)            \n",
    "            info_dict['bboxes'].append(bbox)\n",
    "    \n",
    "    return info_dict\n",
    "# Dictionary that maps class names to IDs\n",
    "# class_name_to_id_mapping = {\"trafficlight\": 0,\n",
    "#                            \"stop\": 1,\n",
    "#                            \"speedlimit\": 2,\n",
    "#                            \"crosswalk\": 3}\n",
    "\n",
    "class_name_to_id_mapping = {\"bicycle\": 0,\n",
    "                           \"bus\": 1,\n",
    "                           \"traffic sign\": 2,\n",
    "                           \"train\": 3,\n",
    "                           \"motorcycle\": 4,\n",
    "                           \"car\": 5,\n",
    "                           \"traffic light\": 6,\n",
    "                           \"person\": 7,\n",
    "                           \"vehicle fallback\": 8,\n",
    "                           \"truck\": 9,\n",
    "                           \"autorickshaw\": 10,\n",
    "                           \"animal\": 11,\n",
    "                           \"caravan\": 12,\n",
    "                           \"rider\": 13,\n",
    "                           \"trailer\": 14                       \n",
    "                            }\n",
    "\n",
    "\n",
    "# Convert the info dict to the required yolo format and write it to disk\n",
    "\n",
    "def convert_to_yolov5(info_dict):\n",
    "    print_buffer = []\n",
    "    \n",
    "    # For each bounding box\n",
    "    for b in info_dict[\"bboxes\"]:\n",
    "        try:\n",
    "            class_id = class_name_to_id_mapping[b[\"class\"]]\n",
    "        except KeyError:\n",
    "            print(\"Invalid Class. Must be one from \", class_name_to_id_mapping.keys())\n",
    "        \n",
    "        # Transform the bbox co-ordinates as per the format required by YOLO v5\n",
    "        b_center_x = (b[\"xmin\"] + b[\"xmax\"]) / 2 \n",
    "        b_center_y = (b[\"ymin\"] + b[\"ymax\"]) / 2\n",
    "        b_width    = (b[\"xmax\"] - b[\"xmin\"])\n",
    "        b_height   = (b[\"ymax\"] - b[\"ymin\"])\n",
    "        \n",
    "        # Normalise the co-ordinates by the dimensions of the image\n",
    "        image_w, image_h, image_c = info_dict[\"image_size\"]  \n",
    "        b_center_x /= image_w \n",
    "        b_center_y /= image_h \n",
    "        b_width    /= image_w \n",
    "        b_height   /= image_h \n",
    "        \n",
    "        #Write the bbox details to the file \n",
    "        print_buffer.append(\"{} {:.3f} {:.3f} {:.3f} {:.3f}\".format(class_id, b_center_x, b_center_y, b_width, b_height))\n",
    "        \n",
    "    # Name of the file which we have to save \n",
    "    # save_file_name = os.path.join(\"annotations\", info_dict[\"filename\"].replace(\"png\", \"txt\"))\n",
    "    save_file_name = os.path.join(r\"/root/Downloads/Dataset/Labels_XML\", info_dict[\"filename\"].replace(\"xml\", \"txt\"))\n",
    "#     save_file_name = info_dict[\"filename\"].replace(\"jpg\", \"txt\")\n",
    "    \n",
    "    # Save the annotation to disk\n",
    "    print(\"\\n\".join(print_buffer), file= open(save_file_name, \"w\"))"
   ]
  },
  {
   "cell_type": "code",
   "execution_count": null,
   "id": "dd5ebf82",
   "metadata": {},
   "outputs": [],
   "source": []
  },
  {
   "cell_type": "code",
   "execution_count": 9,
   "id": "e70b8cc2",
   "metadata": {},
   "outputs": [
    {
     "data": {
      "text/plain": [
       "[]"
      ]
     },
     "execution_count": 9,
     "metadata": {},
     "output_type": "execute_result"
    }
   ],
   "source": [
    "annotations"
   ]
  },
  {
   "cell_type": "code",
   "execution_count": 12,
   "id": "5192e774",
   "metadata": {},
   "outputs": [
    {
     "name": "stderr",
     "output_type": "stream",
     "text": [
      "100%|███████████████████████████████████████████████████████████████████████████████████████████████████| 41857/41857 [00:07<00:00, 5548.80it/s]\n"
     ]
    }
   ],
   "source": [
    "\n",
    "for ann in tqdm(annotations):\n",
    "    info_dict = extract_info_from_xml(ann)\n",
    "    convert_to_yolov5(info_dict)"
   ]
  },
  {
   "cell_type": "code",
   "execution_count": null,
   "id": "bbdc3aa8",
   "metadata": {},
   "outputs": [],
   "source": []
  }
 ],
 "metadata": {
  "kernelspec": {
   "display_name": "Python 3 (ipykernel)",
   "language": "python",
   "name": "python3"
  },
  "language_info": {
   "codemirror_mode": {
    "name": "ipython",
    "version": 3
   },
   "file_extension": ".py",
   "mimetype": "text/x-python",
   "name": "python",
   "nbconvert_exporter": "python",
   "pygments_lexer": "ipython3",
   "version": "3.8.10"
  }
 },
 "nbformat": 4,
 "nbformat_minor": 5
}
